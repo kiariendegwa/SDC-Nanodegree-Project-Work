{
 "cells": [
  {
   "cell_type": "markdown",
   "metadata": {
    "deletable": true,
    "editable": true
   },
   "source": [
    "# Keras and Tensorflow implementation of SGAN on MNIST data set\n",
    "\n",
    "## Goals:\n",
    "1. Semi-supervised training using Wasserstein GANs\n",
    "2. Network visualization with tensorboard\n",
    "3. Training visualisation with tensorboard\n",
    "4. 3D embedding visualisation\n",
    "5. Port final solution to Traffic sign classification task with 3 channels"
   ]
  },
  {
   "cell_type": "code",
   "execution_count": 2,
   "metadata": {
    "collapsed": false,
    "deletable": true,
    "editable": true
   },
   "outputs": [
    {
     "name": "stderr",
     "output_type": "stream",
     "text": [
      "Using TensorFlow backend.\n"
     ]
    }
   ],
   "source": [
    "#Import all libraries and MNIST dataset\n",
    "import keras\n",
    "from keras.models import Model\n",
    "from keras.layers import Input, merge, Convolution2D, MaxPooling2D, UpSampling2D,Lambda\n",
    "from keras.optimizers import Adam\n",
    "from keras import backend as K\n",
    "from keras.datasets import mnist\n",
    "import pandas as pd\n",
    "\n",
    "img_rows, img_cols = 28, 28\n",
    "# the data, shuffled and split between train and test sets\n",
    "(X_train, y_train), (X_test, y_test) = mnist.load_data()"
   ]
  },
  {
   "cell_type": "markdown",
   "metadata": {
    "deletable": true,
    "editable": true
   },
   "source": [
    "![Basic GAN architecture](generative-adversarial-network.png)"
   ]
  },
  {
   "cell_type": "code",
   "execution_count": 3,
   "metadata": {
    "collapsed": false,
    "deletable": true,
    "editable": true
   },
   "outputs": [
    {
     "data": {
      "image/png": "[encoded data removed]",
      "text/plain": [
       "<matplotlib.figure.Figure at 0x7f4fc6166e48>"
      ]
     },
     "metadata": {},
     "output_type": "display_data"
    }
   ],
   "source": [
    "import matplotlib.pyplot as plt\n",
    "import numpy as np\n",
    "#Data cleaning and dataset visualization\n",
    "\n",
    "#Make data consumable with Keras\n",
    "#Train data\n",
    "X_train = X_train.reshape(X_train.shape[0], X_train.shape[1], X_train.shape[2], -1).astype('float32')\n",
    "Y_train = y_train.reshape(y_train.shape[0], -1).astype('float32')\n",
    "#Test data\n",
    "X_test = X_test.reshape(X_test.shape[0], X_test.shape[1], X_test.shape[2], -1).astype('float32')\n",
    "Y_test = y_test.reshape(y_test.shape[0], -1).astype('float32')\n",
    "\n",
    "#Normalize all data [0, 1] with mean zero\n",
    "X_train/=255\n",
    "X_test/=255\n",
    "\n",
    "#Plot distribution of data set\n",
    "def barchart(y_data, title, x_axis_label, y_axis_label):\n",
    "    d_count = pd.Series(y_data).value_counts().tolist()\n",
    "    n_groups = len(d_count)\n",
    "    fig, ax = plt.subplots()\n",
    "    index = np.arange(n_groups)\n",
    "    bar_width = 0.35\n",
    "    opacity = 0.4\n",
    "    error_config = {'ecolor': '0.3'}\n",
    "    plt.bar(index, d_count, bar_width,\n",
    "                     alpha=opacity,\n",
    "                     color='b')\n",
    "    plt.xlabel(x_axis_label)\n",
    "    plt.ylabel(y_axis_label)\n",
    "    plt.title(title)\n",
    "    plt.tight_layout()\n",
    "    plt.show()\n",
    "\n",
    "barchart(y_train, 'Distribution of different written digits', 'Dataset by index', 'No of examples')"
   ]
  },
  {
   "cell_type": "code",
   "execution_count": 46,
   "metadata": {
    "collapsed": false,
    "deletable": true,
    "editable": true
   },
   "outputs": [
    {
     "name": "stdout",
     "output_type": "stream",
     "text": [
      "_________________________________________________________________\n",
      "Layer (type)                 Output Shape              Param #   \n",
      "=================================================================\n",
      "input_25 (InputLayer)        (None, 100)               0         \n",
      "_________________________________________________________________\n",
      "dense_36 (Dense)             (None, 3920)              395920    \n",
      "_________________________________________________________________\n",
      "batch_normalization_40 (Batc (None, 3920)              15680     \n",
      "_________________________________________________________________\n",
      "leaky_re_lu_62 (LeakyReLU)   (None, 3920)              0         \n",
      "_________________________________________________________________\n",
      "reshape_14 (Reshape)         (None, 14, 14, 20)        0         \n",
      "_________________________________________________________________\n",
      "up_sampling2d_14 (UpSampling (None, 28, 28, 20)        0         \n",
      "_________________________________________________________________\n",
      "conv2d_62 (Conv2D)           (None, 28, 28, 10)        1810      \n",
      "_________________________________________________________________\n",
      "batch_normalization_41 (Batc (None, 28, 28, 10)        112       \n",
      "_________________________________________________________________\n",
      "leaky_re_lu_63 (LeakyReLU)   (None, 28, 28, 10)        0         \n",
      "_________________________________________________________________\n",
      "conv2d_63 (Conv2D)           (None, 28, 28, 3)         273       \n",
      "_________________________________________________________________\n",
      "batch_normalization_42 (Batc (None, 28, 28, 3)         112       \n",
      "_________________________________________________________________\n",
      "leaky_re_lu_64 (LeakyReLU)   (None, 28, 28, 3)         0         \n",
      "_________________________________________________________________\n",
      "conv2d_64 (Conv2D)           (None, 28, 28, 1)         4         \n",
      "_________________________________________________________________\n",
      "activation_25 (Activation)   (None, 28, 28, 1)         0         \n",
      "=================================================================\n",
      "Total params: 413,911\n",
      "Trainable params: 405,959\n",
      "Non-trainable params: 7,952\n",
      "_________________________________________________________________\n",
      "_________________________________________________________________\n",
      "Layer (type)                 Output Shape              Param #   \n",
      "=================================================================\n",
      "input_26 (InputLayer)        (None, 28, 28, 1)         0         \n",
      "_________________________________________________________________\n",
      "conv2d_65 (Conv2D)           (None, 28, 28, 16)        416       \n",
      "_________________________________________________________________\n",
      "leaky_re_lu_65 (LeakyReLU)   (None, 28, 28, 16)        0         \n",
      "_________________________________________________________________\n",
      "max_pooling2d_23 (MaxPooling (None, 14, 14, 16)        0         \n",
      "_________________________________________________________________\n",
      "conv2d_66 (Conv2D)           (None, 14, 14, 32)        12832     \n",
      "_________________________________________________________________\n",
      "max_pooling2d_24 (MaxPooling (None, 7, 7, 32)          0         \n",
      "_________________________________________________________________\n",
      "flatten_12 (Flatten)         (None, 1568)              0         \n",
      "_________________________________________________________________\n",
      "dense_37 (Dense)             (None, 256)               401664    \n",
      "_________________________________________________________________\n",
      "leaky_re_lu_66 (LeakyReLU)   (None, 256)               0         \n",
      "_________________________________________________________________\n",
      "dense_38 (Dense)             (None, 1)                 257       \n",
      "_________________________________________________________________\n",
      "activation_26 (Activation)   (None, 1)                 0         \n",
      "=================================================================\n",
      "Total params: 415,169\n",
      "Trainable params: 415,169\n",
      "Non-trainable params: 0\n",
      "_________________________________________________________________\n"
     ]
    }
   ],
   "source": [
    "#Build the generative and adversarial models\n",
    "from keras.models import Sequential\n",
    "from keras.models import Model\n",
    "from keras.layers import Input, merge, Conv2D, MaxPooling2D, UpSampling2D,Lambda\n",
    "from keras.optimizers import Adam\n",
    "from keras.callbacks import ModelCheckpoint, LearningRateScheduler\n",
    "from keras import backend as K\n",
    "from keras.layers import Merge\n",
    "from keras.layers.advanced_activations import LeakyReLU\n",
    "from keras.layers.normalization import BatchNormalization\n",
    "from keras.layers.core import Reshape,Dense,Dropout,Activation,Flatten\n",
    "from keras.layers import ZeroPadding2D, Deconvolution2D\n",
    "from keras.callbacks import TensorBoard\n",
    "\n",
    "def Generator(LatentVector):\n",
    "    #Size of latent matrix\n",
    "    latent_vector_size = LatentVector\n",
    "    \n",
    "    width =  14  # Hand picked width of the 'meta' image \n",
    "    filters = 20 # No of the kernels in convolution\n",
    "    \n",
    "    latent_vector_input = Input(shape=[latent_vector_size])\n",
    "    G = Dense(width*width*filters, kernel_initializer='glorot_normal')(latent_vector_input)\n",
    "    \n",
    "    G = BatchNormalization(axis=1)(G)\n",
    "    G = LeakyReLU(0.2)(G)\n",
    "\n",
    "    G = Reshape([width, width, filters])(G)\n",
    "    G = UpSampling2D(size=(2, 2))(G)\n",
    "    G = Conv2D(filters = filters//2, kernel_size=(3, 3), padding='same', kernel_initializer='glorot_uniform')(G)\n",
    "\n",
    "    G = BatchNormalization(axis=1)(G)\n",
    "    G = LeakyReLU(.2)(G)\n",
    "    \n",
    "    G = Conv2D(filters=width//4, kernel_size=(3, 3), padding='same')(G)\n",
    "    G = BatchNormalization(axis=1)(G)\n",
    "    G = LeakyReLU(.2)(G)\n",
    "    G = Conv2D(filters = 1, kernel_size=(1, 1), padding='same')(G)\n",
    "    generated_image = Activation('sigmoid')(G)\n",
    "    \n",
    "    #Final model\n",
    "    model = Model(inputs=latent_vector_input, outputs=generated_image)\n",
    "    model.compile(loss='binary_crossentropy', optimizer=\"SGD\")\n",
    "    return model\n",
    "\n",
    "def Discriminator(ImageShape):\n",
    "    InputImage = Input(ImageShape)\n",
    "    D = Conv2D(filters=16, kernel_size=(5, 5), padding= 'same')(InputImage)\n",
    "    D = LeakyReLU(.2)(D)\n",
    "    D = MaxPooling2D(pool_size=(2, 2))(D)\n",
    "    D = Conv2D(filters=32,  kernel_size=(5, 5), padding = 'same')(D)\n",
    "    D = MaxPooling2D(pool_size=(2, 2))(D)\n",
    "    D = Flatten()(D)\n",
    "    D = Dense(256)(D)\n",
    "    D = LeakyReLU(.2)(D)\n",
    "    D = Dense(1)(D)\n",
    "    D = Activation('sigmoid')(D)\n",
    "    \n",
    "    #Final model\n",
    "    model = Model(inputs=InputImage, outputs=D)\n",
    "    \n",
    "    return model\n",
    "\n",
    "def GeneratorWithDiscriminator(Generator, Discriminator):\n",
    "    #Freeze weights in Descriminator as part of minimax game\n",
    "    Discriminator.trainable = False\n",
    "    \n",
    "    #Create Generator Trainer\n",
    "    model = Sequential()\n",
    "    model.add(Generator)\n",
    "    model.add(Discriminator)\n",
    "    \n",
    "    return model  \n",
    "\n",
    "#Test models   \n",
    "Generator(LatentVector=100).summary()\n",
    "Discriminator((28, 28, 1)).summary()"
   ]
  },
  {
   "cell_type": "code",
   "execution_count": 207,
   "metadata": {
    "collapsed": false
   },
   "outputs": [],
   "source": [
    "#Generate image sprites to show training\n",
    "import math\n",
    "def SpriteGen(image_batches):\n",
    "    #Convert to 8 bit matrix between 0 & 255\n",
    "    image_batches = (image_batches*127.5+127.5).astype(np.uint8)\n",
    "    \n",
    "    number_of_images = image_batches.shape[0]\n",
    "    \n",
    "    #Height and width of final sprite image:\n",
    "    height = int(math.sqrt(number_of_images))\n",
    "    width = int(math.ceil(number_of_images/height))\n",
    "    \n",
    "    image_dim = image_batches.shape[1:]\n",
    "    \n",
    "    #Final output sprite image:s\n",
    "    sprite = np.zeros((height*image_dim[0], width*image_dim[1]))\n",
    "\n",
    "    for index, img in enumerate(image_batches):\n",
    "        i = int(index/width)\n",
    "        j = index % width\n",
    "        sprite[i*image_dim[0]:(i+1)* image_dim[0], j*image_dim[1]:(j+1)*image_dim[1]] = \\\n",
    "            image_batches[0, :, :].reshape(image_dim[0], image_dim[1])\n",
    "   \n",
    "    return sprite       "
   ]
  },
  {
   "cell_type": "code",
   "execution_count": 226,
   "metadata": {
    "collapsed": false,
    "deletable": true,
    "editable": true
   },
   "outputs": [],
   "source": [
    "#Training models and training function\n",
    "from sklearn.utils import shuffle\n",
    "\n",
    "#Create callback for graph visualizations with tensorboard\n",
    "#GAN_callback = keras.callbacks.TensorBoard(log_dir='../Graph/GAN_graph', histogram_freq=1,  \n",
    "#          write_graph=True, write_images=True)\n",
    "\n",
    "def Train(BatchSize, Epochs, LatentVectorSize, DataSet):\n",
    "    #Set up discriminator\n",
    "    discriminator = Discriminator(ImageShape=(28, 28, 1))\n",
    "    discriminator.compile(loss='binary_crossentropy', optimizer=\"SGD\")\n",
    "    discriminator.trainable = True\n",
    "    \n",
    "    #Set up generator\n",
    "    generator = Generator(LatentVector=LatentVectorSize)\n",
    "    #generator = Generator.compile(loss='binary_crossentropy', optimizer=\"SGD\")\n",
    "    \n",
    "    #Set up GAN\n",
    "    GAN = GeneratorWithDiscriminator(Generator=generator, Discriminator=discriminator)\n",
    "    GAN.compile(loss='binary_crossentropy', optimizer=\"SGD\")\n",
    "\n",
    "    #Get Data\n",
    "    X_train, Y_train, X_test, Y_test = DataSet\n",
    "    \n",
    "    for Epoch in range(Epochs):\n",
    "    #Training sequence: -> Generator -> Descriminator -> GAN\n",
    "        print('Epoch: {}'.format(Epoch))\n",
    "        \n",
    "        #Get training data and shuffle\n",
    "        X_train, Y_train = shuffle(X_train, Y_train)\n",
    "        \n",
    "        for offset in range(0,200, BatchSize):\n",
    "            end = offset + BatchSize\n",
    "            batch_X_train, batch_Y_train = X_train[offset:end], Y_train[offset:end]\n",
    "            noise_batch = np.random.uniform(-1, 1, (BatchSize, LatentVectorSize))\n",
    "               \n",
    "            #Generate images from Generator\n",
    "            GeneratedImages =  np.asarray(generator.predict(noise_batch, verbose=1))\n",
    "            \n",
    "            #Save every image every 50 batches and 10 epochs\n",
    "            if offset%50==0 and Epoch%10==0:\n",
    "                SpriteImg = SpriteGen(GeneratedImages)\n",
    "                Image.fromarray(SpriteImg, mode='RGB').save(\"TrainingImages/Epoch_\"+str(Epoch)+\"_\"+\\\n",
    "                                               \"Batch_\"+str(offset)+\".png\")\n",
    "            #Generate GAN training data\n",
    "            combined_X_train =  np.vstack((batch_X_train, GeneratedImages))\n",
    "            combined_Y_train = [1]*BatchSize + [0]*BatchSize\n",
    "            \n",
    "            #Discriminator\n",
    "            d_loss = discriminator.train_on_batch(combined_X_train, combined_Y_train)\n",
    "            \n",
    "            #Train on GAN\n",
    "            discriminator.trainable = False\n",
    "            g_loss = GAN.train_on_batch(noise_batch, np.ones(BatchSize))\n",
    "            discriminator.trainable = True\n",
    "            \n",
    "            #Save weights every 10 batches\n",
    "            if offset%10 == 0:\n",
    "                generator.save('Generator.h5')\n",
    "                discriminator.save('Discriminator.h5')\n",
    "            \n",
    "        print(\"Batch: {}, Discriminator Loss: {}\".format(offset, d_loss))\n",
    "        print(\"Batch: {}, Generator Loss: {}\".format(offset, g_loss))                        "
   ]
  },
  {
   "cell_type": "code",
   "execution_count": 227,
   "metadata": {
    "collapsed": false,
    "deletable": true,
    "editable": true
   },
   "outputs": [
    {
     "name": "stdout",
     "output_type": "stream",
     "text": [
      "Epoch: 0\n",
      "192/200 [===========================>..] - ETA: 0s\b\b\b\b\b\b\b\b\b\b\b\b\b\b\b\b\b\b\b\b\b\b\b\b\b\b\b\b\b\b\b\b\b\b\b\b\b\b\b\b\b\b\b\b\b\b\b\b\b\b\b\b\b\b\b\b\b\b\b\b\b\b\b\b\b\b\b\b\b\b\b\b\b\b\b\b\b\b\b\b\b\b\b\b\b\b\b\b\b\b\b\b\b\b\b\b\b\b\b\b\b\b\b\b\b\b\b\b\b\b\b\b\b\b\b\b\b\b\b\b\b\b\b\b\b\b\b\b\b\b\b\b\b\b\b\b\b\b\b\b\b\b\b\b\b\b\b\b\b\b\b\b\b\b\b\b\b\b\b\b\b\b\b\b\b\b\b\b\b\b\b\b\b\b\b\b\b\b\b\b\b\b\b\b\b\b\b\b\b\b\b\b\b\b\b\b\b\b\b\b\b\b\b\b\b\b\b\b\b\b\b\b\b\b\b\b\b\b\b\b\b\b\b\b\b\b\b\b\b\b\b\b\b\b\b\b\b\b\b\b\b\b\b\b\b\b\b\b\b\bBatch: 0, Discriminator Loss: 0.6593846082687378\n",
      "Batch: 0, Generator Loss: 0.7994616031646729\n"
     ]
    }
   ],
   "source": [
    "#Set training parameters\n",
    "Train(BatchSize=200, Epochs=1, LatentVectorSize=100, DataSet=(X_train, Y_train, X_test, Y_test))"
   ]
  },
  {
   "cell_type": "code",
   "execution_count": 224,
   "metadata": {
    "collapsed": false,
    "deletable": true,
    "editable": true
   },
   "outputs": [],
   "source": [
    "#Generate images from generator\n",
    "from keras.models import load_model\n",
    "def GenImages(latent_vector):\n",
    "    generator = load_model('Generator.h5')\n",
    "    return generator.predict(latent_vector)\n",
    "\n",
    "noise =  np.zeros((16, 100))\n",
    "for i in range(16):\n",
    "    noise[i, :] = np.random.uniform(-1, 1, 100)\n",
    "    \n",
    "TestOut = GenImages(noise)"
   ]
  },
  {
   "cell_type": "code",
   "execution_count": 225,
   "metadata": {
    "collapsed": false,
    "deletable": true,
    "editable": true
   },
   "outputs": [
    {
     "name": "stdout",
     "output_type": "stream",
     "text": [
      "(112, 112)\n"
     ]
    },
    {
     "data": {
      "text/plain": [
       "<matplotlib.image.AxesImage at 0x7f4f4a4bd588>"
      ]
     },
     "execution_count": 225,
     "metadata": {},
     "output_type": "execute_result"
    },
    {
     "data": {
      "image/png": "[encoded data removed]",
      "text/plain": [
       "<matplotlib.figure.Figure at 0x7f4f4a845cf8>"
      ]
     },
     "metadata": {},
     "output_type": "display_data"
    }
   ],
   "source": [
    "#Generate 16 generator images\n",
    "from PIL import Image\n",
    "Test = SpriteGen(TestOut)\n",
    "print(Test.shape)\n",
    "\n",
    "Timage = Image.fromarray(Test)\n",
    "plt.imshow(Timage, cmap ='gray')"
   ]
  },
  {
   "cell_type": "code",
   "execution_count": null,
   "metadata": {
    "collapsed": true
   },
   "outputs": [],
   "source": []
  }
 ],
 "metadata": {
  "kernelspec": {
   "display_name": "Python 3",
   "language": "python",
   "name": "python3"
  },
  "language_info": {
   "codemirror_mode": {
    "name": "ipython",
    "version": 3
   },
   "file_extension": ".py",
   "mimetype": "text/x-python",
   "name": "python",
   "nbconvert_exporter": "python",
   "pygments_lexer": "ipython3",
   "version": "3.5.2"
  },
  "widgets": {
   "state": {},
   "version": "1.1.2"
  }
 },
 "nbformat": 4,
 "nbformat_minor": 2
}
