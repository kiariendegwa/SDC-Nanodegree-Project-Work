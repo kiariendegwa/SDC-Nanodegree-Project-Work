{
 "cells": [
  {
   "cell_type": "markdown",
   "metadata": {
    "deletable": true,
    "editable": true
   },
   "source": [
    "# Keras and Tensorflow implementation of SGAN on MNIST data set\n",
    "\n",
    "## Goals:\n",
    "1. Semi supervised training using GAN\n",
    "2. Network visualization with tensorboard\n",
    "3. Training visualisation with tensorboard\n",
    "4. 3D embedding visualisation\n",
    "5. Port final solution to Traffic sign classification task with 3 channels"
   ]
  },
  {
   "cell_type": "code",
   "execution_count": 1,
   "metadata": {
    "collapsed": false,
    "deletable": true,
    "editable": true
   },
   "outputs": [
    {
     "name": "stderr",
     "output_type": "stream",
     "text": [
      "Using TensorFlow backend.\n"
     ]
    }
   ],
   "source": [
    "#Import all libraries and MNIST dataset\n",
    "import keras\n",
    "from keras.models import Model\n",
    "from keras.layers import Input, merge, Convolution2D, MaxPooling2D, UpSampling2D,Lambda\n",
    "from keras.optimizers import Adam\n",
    "from keras import backend as K\n",
    "from keras.datasets import mnist\n",
    "import pandas as pd\n",
    "\n",
    "img_rows, img_cols = 28, 28\n",
    "# the data, shuffled and split between train and test sets\n",
    "(X_train, y_train), (X_test, y_test) = mnist.load_data()"
   ]
  },
  {
   "cell_type": "markdown",
   "metadata": {
    "deletable": true,
    "editable": true
   },
   "source": [
    "![Basic GAN architecture](generative-adversarial-network.png)"
   ]
  },
  {
   "cell_type": "code",
   "execution_count": 2,
   "metadata": {
    "collapsed": false,
    "deletable": true,
    "editable": true
   },
   "outputs": [
    {
     "data": {
      "image/png": "[encoded data removed]",
      "text/plain": [
       "<matplotlib.figure.Figure at 0x7f9167384ef0>"
      ]
     },
     "metadata": {},
     "output_type": "display_data"
    }
   ],
   "source": [
    "import matplotlib.pyplot as plt\n",
    "import numpy as np\n",
    "#Data cleaning and dataset visualization\n",
    "\n",
    "#Make data consumable with Keras\n",
    "#Train data\n",
    "X_train = X_train.reshape(X_train.shape[0], X_train.shape[1], X_train.shape[2], -1).astype('float32')\n",
    "Y_train = y_train.reshape(y_train.shape[0], -1).astype('float32')\n",
    "#Test data\n",
    "X_test = X_test.reshape(X_test.shape[0], X_test.shape[1], X_test.shape[2], -1).astype('float32')\n",
    "Y_test = y_test.reshape(y_test.shape[0], -1).astype('float32')\n",
    "\n",
    "#Normalize all data [0, 1] with mean zero\n",
    "X_train/=255\n",
    "X_test/=255\n",
    "\n",
    "#Plot distribution of data set\n",
    "def barchart(y_data, title, x_axis_label, y_axis_label):\n",
    "    d_count = pd.Series(y_data).value_counts().tolist()\n",
    "    n_groups = len(d_count)\n",
    "    fig, ax = plt.subplots()\n",
    "    index = np.arange(n_groups)\n",
    "    bar_width = 0.35\n",
    "    opacity = 0.4\n",
    "    error_config = {'ecolor': '0.3'}\n",
    "    plt.bar(index, d_count, bar_width,\n",
    "                     alpha=opacity,\n",
    "                     color='b')\n",
    "    plt.xlabel(x_axis_label)\n",
    "    plt.ylabel(y_axis_label)\n",
    "    plt.title(title)\n",
    "    plt.tight_layout()\n",
    "    plt.show()\n",
    "\n",
    "barchart(y_train, 'Distribution of different written digits', 'Dataset by index', 'No of examples')"
   ]
  },
  {
   "cell_type": "code",
   "execution_count": 15,
   "metadata": {
    "collapsed": false,
    "deletable": true,
    "editable": true
   },
   "outputs": [
    {
     "name": "stdout",
     "output_type": "stream",
     "text": [
      "____________________________________________________________________________________________________\n",
      "Layer (type)                     Output Shape          Param #     Connected to                     \n",
      "====================================================================================================\n",
      "input_15 (InputLayer)            (None, 100)           0                                            \n",
      "____________________________________________________________________________________________________\n",
      "dense_22 (Dense)                 (None, 3920)          395920      input_15[0][0]                   \n",
      "____________________________________________________________________________________________________\n",
      "batchnormalization_22 (BatchNorm (None, 3920)          7840        dense_22[0][0]                   \n",
      "____________________________________________________________________________________________________\n",
      "leakyrelu_36 (LeakyReLU)         (None, 3920)          0           batchnormalization_22[0][0]      \n",
      "____________________________________________________________________________________________________\n",
      "reshape_8 (Reshape)              (None, 14, 14, 20)    0           leakyrelu_36[0][0]               \n",
      "____________________________________________________________________________________________________\n",
      "upsampling2d_8 (UpSampling2D)    (None, 28, 28, 20)    0           reshape_8[0][0]                  \n",
      "____________________________________________________________________________________________________\n",
      "convolution2d_36 (Convolution2D) (None, 28, 28, 10)    1810        upsampling2d_8[0][0]             \n",
      "____________________________________________________________________________________________________\n",
      "batchnormalization_23 (BatchNorm (None, 28, 28, 10)    56          convolution2d_36[0][0]           \n",
      "____________________________________________________________________________________________________\n",
      "leakyrelu_37 (LeakyReLU)         (None, 28, 28, 10)    0           batchnormalization_23[0][0]      \n",
      "____________________________________________________________________________________________________\n",
      "convolution2d_37 (Convolution2D) (None, 28, 28, 3)     273         leakyrelu_37[0][0]               \n",
      "____________________________________________________________________________________________________\n",
      "batchnormalization_24 (BatchNorm (None, 28, 28, 3)     56          convolution2d_37[0][0]           \n",
      "____________________________________________________________________________________________________\n",
      "leakyrelu_38 (LeakyReLU)         (None, 28, 28, 3)     0           batchnormalization_24[0][0]      \n",
      "____________________________________________________________________________________________________\n",
      "convolution2d_38 (Convolution2D) (None, 28, 28, 1)     4           leakyrelu_38[0][0]               \n",
      "____________________________________________________________________________________________________\n",
      "activation_15 (Activation)       (None, 28, 28, 1)     0           convolution2d_38[0][0]           \n",
      "====================================================================================================\n",
      "Total params: 405959\n",
      "____________________________________________________________________________________________________\n",
      "____________________________________________________________________________________________________\n",
      "Layer (type)                     Output Shape          Param #     Connected to                     \n",
      "====================================================================================================\n",
      "input_16 (InputLayer)            (None, 28, 28, 1)     0                                            \n",
      "____________________________________________________________________________________________________\n",
      "convolution2d_39 (Convolution2D) (None, 28, 28, 16)    416         input_16[0][0]                   \n",
      "____________________________________________________________________________________________________\n",
      "leakyrelu_39 (LeakyReLU)         (None, 28, 28, 16)    0           convolution2d_39[0][0]           \n",
      "____________________________________________________________________________________________________\n",
      "maxpooling2d_15 (MaxPooling2D)   (None, 14, 14, 16)    0           leakyrelu_39[0][0]               \n",
      "____________________________________________________________________________________________________\n",
      "convolution2d_40 (Convolution2D) (None, 14, 14, 32)    12832       maxpooling2d_15[0][0]            \n",
      "____________________________________________________________________________________________________\n",
      "maxpooling2d_16 (MaxPooling2D)   (None, 7, 7, 32)      0           convolution2d_40[0][0]           \n",
      "____________________________________________________________________________________________________\n",
      "flatten_8 (Flatten)              (None, 1568)          0           maxpooling2d_16[0][0]            \n",
      "____________________________________________________________________________________________________\n",
      "dense_23 (Dense)                 (None, 256)           401664      flatten_8[0][0]                  \n",
      "____________________________________________________________________________________________________\n",
      "leakyrelu_40 (LeakyReLU)         (None, 256)           0           dense_23[0][0]                   \n",
      "____________________________________________________________________________________________________\n",
      "dense_24 (Dense)                 (None, 1)             257         leakyrelu_40[0][0]               \n",
      "____________________________________________________________________________________________________\n",
      "activation_16 (Activation)       (None, 1)             0           dense_24[0][0]                   \n",
      "====================================================================================================\n",
      "Total params: 415169\n",
      "____________________________________________________________________________________________________\n"
     ]
    }
   ],
   "source": [
    "#Build the generative and adversarial models\n",
    "from keras.models import Sequential\n",
    "from keras.models import Model\n",
    "from keras.layers import Input, merge, Convolution2D, MaxPooling2D, UpSampling2D,Lambda\n",
    "from keras.optimizers import Adam\n",
    "from keras.callbacks import ModelCheckpoint, LearningRateScheduler\n",
    "from keras import backend as K\n",
    "from keras.layers import Merge\n",
    "from keras.layers.advanced_activations import LeakyReLU\n",
    "from keras.layers.normalization import BatchNormalization\n",
    "from keras.layers.core import Reshape,Dense,Dropout,Activation,Flatten\n",
    "from keras.layers import ZeroPadding2D, Deconvolution2D\n",
    "\n",
    "\n",
    "def Generator(LatentVector):\n",
    "    #Size of latent matrix\n",
    "    latent_vector_size = LatentVector\n",
    "    \n",
    "    width =  14  # Hand picked width of the 'meta' image \n",
    "    filters = 20 # No of the kernels in convolution\n",
    "    \n",
    "    latent_vector_input = Input(shape=[latent_vector_size])\n",
    "    G = Dense(width*width*filters, init='glorot_normal')(latent_vector_input)\n",
    "    \n",
    "    G = BatchNormalization(axis=1)(G)\n",
    "    G = LeakyReLU(0.2)(G)\n",
    "\n",
    "    G = Reshape([width, width, filters])(G)\n",
    "    G = UpSampling2D(size=(2, 2))(G)\n",
    "    G = Convolution2D(filters//2, nb_row=3, nb_col=3, border_mode='same', init='glorot_uniform')(G)\n",
    "\n",
    "    G = BatchNormalization(axis=1)(G)\n",
    "    G = LeakyReLU(.2)(G)\n",
    "    \n",
    "    G = Convolution2D(nb_filter=width//4, nb_row=3, nb_col=3, border_mode='same', init='glorot_uniform')(G)\n",
    "    G = BatchNormalization(axis=1)(G)\n",
    "    G = LeakyReLU(.2)(G)\n",
    "    G = Convolution2D(1, 1, 1, border_mode='same', init='glorot_uniform')(G)\n",
    "    generated_image = Activation('sigmoid')(G)\n",
    "    \n",
    "    #Final model\n",
    "    model = Model(input=latent_vector_input, output=generated_image)\n",
    "    model.compile(loss='binary_crossentropy', optimizer=\"SGD\")\n",
    "    return model\n",
    "\n",
    "def Discriminator(ImageShape):\n",
    "    InputImage = Input(ImageShape)\n",
    "    D = Convolution2D(nb_filter=16, nb_row = 5, nb_col =5, border_mode = 'same')(InputImage)\n",
    "    D = LeakyReLU(.2)(D)\n",
    "    D = MaxPooling2D(pool_size=(2, 2))(D)\n",
    "    D = Convolution2D(nb_filter=32, nb_row = 5, nb_col =5, border_mode = 'same')(D)\n",
    "    D = MaxPooling2D(pool_size=(2, 2))(D)\n",
    "    D = Flatten()(D)\n",
    "    D = Dense(256)(D)\n",
    "    D = LeakyReLU(.2)(D)\n",
    "    D = Dense(1)(D)\n",
    "    D = Activation('sigmoid')(D)\n",
    "    \n",
    "    #Final model\n",
    "    model = Model(input=InputImage, output=D)\n",
    "    \n",
    "    return model\n",
    "    \n",
    "#Test models   \n",
    "Generator(LatentVector=100).summary()\n",
    "Discriminator((28, 28, 1)).summary()"
   ]
  },
  {
   "cell_type": "code",
   "execution_count": 26,
   "metadata": {
    "collapsed": false,
    "deletable": true,
    "editable": true
   },
   "outputs": [],
   "source": [
    "#Training models and training function\n",
    "from sklearn.utils import shuffle\n",
    "\n",
    "def GeneratorWithDiscriminator(Generator, Discriminator):\n",
    "    #Freeze weights in Descriminator as part of minimax game\n",
    "    Discriminator.trainable = False\n",
    "    \n",
    "    #Create Generator Trainer\n",
    "    model = Sequential()\n",
    "    model.add(Generator)\n",
    "    model.add(Discriminator)\n",
    "    \n",
    "    return model  \n",
    "\n",
    "def Train(BatchSize, Epochs, LatentVectorSize, DataSet):\n",
    "    discriminator = Discriminator(ImageShape=(28, 28, 1))\n",
    "    discriminator.compile(loss='binary_crossentropy', optimizer=\"SGD\")\n",
    "    discriminator.trainable = True\n",
    "    \n",
    "    generator = Generator(LatentVector=LatentVectorSize)\n",
    "    #generator = Generator.compile(loss='binary_crossentropy', optimizer=\"SGD\")\n",
    "    \n",
    "    GAN = GeneratorWithDiscriminator(Generator=generator, Discriminator=discriminator)\n",
    "    GAN.compile(loss='binary_crossentropy', optimizer=\"SGD\")\n",
    "        \n",
    "    #Get Data\n",
    "    X_train, Y_train, X_test, Y_test = DataSet\n",
    "    \n",
    "    for Epoch in range(Epochs):\n",
    "    # Training sequence\n",
    "    # -> Generator -> Descriminator -> GAN\n",
    "        print('Epoch: {}'.format(Epoch))\n",
    "        \n",
    "        #Get training data and shuffle\n",
    "        X_train, Y_train = shuffle(X_train, Y_train)\n",
    "        \n",
    "        for offset in range(0, 100, BatchSize):\n",
    "            end = offset + BatchSize\n",
    "            batch_X_train, batch_Y_train = X_train[offset:end], Y_train[offset:end]\n",
    "            noise_batch = np.random.uniform(-1, 1, (BatchSize, LatentVectorSize))\n",
    "               \n",
    "            #Generate images from Generator\n",
    "            GeneratedImages =  np.asarray(generator.predict(noise_batch, verbose=1))\n",
    "                        \n",
    "            #Generate GAN training data\n",
    "            combined_X_train =  np.vstack((batch_X_train, GeneratedImages))\n",
    "            combined_Y_train = [1]*BatchSize + [0]*BatchSize\n",
    "            \n",
    "            #Discriminator\n",
    "            d_loss = discriminator.train_on_batch(combined_X_train, combined_Y_train)\n",
    "            \n",
    "            #Train on GAN\n",
    "            discriminator.trainable = False\n",
    "            g_loss = GAN.train_on_batch(noise_batch, np.ones(BatchSize))\n",
    "            discriminator.trainable = True\n",
    "            \n",
    "            #Save weights every 10 batches\n",
    "            if offset%10 == 0:\n",
    "                generator.save_weights('Generator.h5', True)\n",
    "                discriminator.save('Discriminator.h5')\n",
    "            \n",
    "        print(\"Batch: {}, Discriminator Loss: {}\".format(offset, d_loss))\n",
    "        print(\"Batch: {}, Generator Loss: {}\".format(offset, g_loss))                        "
   ]
  },
  {
   "cell_type": "code",
   "execution_count": 27,
   "metadata": {
    "collapsed": false,
    "deletable": true,
    "editable": true
   },
   "outputs": [
    {
     "name": "stdout",
     "output_type": "stream",
     "text": [
      "Epoch: 0\n",
      "50/50 [==============================] - 1s     \b\b\b\b\b\b\b\b\b\b\b\b\b\b\b\b\b\b\b\b\b\b\b\b\b\b\b\b\b\b\b\b\b\b\b\b\b\b\b\b\b\b\b\b\b\b\b\b\n",
      "50/50 [==============================] - 0s     \b\b\b\b\b\b\b\b\b\b\b\b\b\b\b\b\b\b\b\b\b\b\b\b\b\b\b\b\b\b\b\b\b\b\b\b\b\b\b\b\b\b\b\b\b\b\b\b\n",
      "Batch: 50, Discriminator Loss: 0.6815649271011353\n",
      "Batch: 50, Generator Loss: 0.6635993123054504\n",
      "Epoch: 1\n",
      "50/50 [==============================] - 0s     \b\b\b\b\b\b\b\b\b\b\b\b\b\b\b\b\b\b\b\b\b\b\b\b\b\b\b\b\b\b\b\b\b\b\b\b\b\b\b\b\b\b\b\b\b\b\b\b\n",
      "50/50 [==============================] - 0s     \b\b\b\b\b\b\b\b\b\b\b\b\b\b\b\b\b\b\b\b\b\b\b\b\b\b\b\b\b\b\b\b\b\b\b\b\b\b\b\b\b\b\b\b\b\b\b\b\n",
      "Batch: 50, Discriminator Loss: 0.6440901160240173\n",
      "Batch: 50, Generator Loss: 0.7192832231521606\n",
      "Epoch: 2\n",
      "50/50 [==============================] - 0s     \b\b\b\b\b\b\b\b\b\b\b\b\b\b\b\b\b\b\b\b\b\b\b\b\b\b\b\b\b\b\b\b\b\b\b\b\b\b\b\b\b\b\b\b\b\b\b\b\n",
      "50/50 [==============================] - 0s     \b\b\b\b\b\b\b\b\b\b\b\b\b\b\b\b\b\b\b\b\b\b\b\b\b\b\b\b\b\b\b\b\b\b\b\b\b\b\b\b\b\b\b\b\b\b\b\b\n",
      "Batch: 50, Discriminator Loss: 0.613383412361145\n",
      "Batch: 50, Generator Loss: 0.7714519500732422\n",
      "Epoch: 3\n",
      "50/50 [==============================] - 0s     \b\b\b\b\b\b\b\b\b\b\b\b\b\b\b\b\b\b\b\b\b\b\b\b\b\b\b\b\b\b\b\b\b\b\b\b\b\b\b\b\b\b\b\b\b\b\b\b\n",
      "50/50 [==============================] - 0s     \b\b\b\b\b\b\b\b\b\b\b\b\b\b\b\b\b\b\b\b\b\b\b\b\b\b\b\b\b\b\b\b\b\b\b\b\b\b\b\b\b\b\b\b\b\b\b\b\n",
      "Batch: 50, Discriminator Loss: 0.5886489748954773\n",
      "Batch: 50, Generator Loss: 0.8145877718925476\n",
      "Epoch: 4\n",
      "50/50 [==============================] - 0s     \b\b\b\b\b\b\b\b\b\b\b\b\b\b\b\b\b\b\b\b\b\b\b\b\b\b\b\b\b\b\b\b\b\b\b\b\b\b\b\b\b\b\b\b\b\b\b\b\n",
      "50/50 [==============================] - 0s     \b\b\b\b\b\b\b\b\b\b\b\b\b\b\b\b\b\b\b\b\b\b\b\b\b\b\b\b\b\b\b\b\b\b\b\b\b\b\b\b\b\b\b\b\b\b\b\b\n",
      "Batch: 50, Discriminator Loss: 0.5605670213699341\n",
      "Batch: 50, Generator Loss: 0.8508902192115784\n"
     ]
    }
   ],
   "source": [
    "Train(BatchSize=50, Epochs=5, LatentVectorSize=100, DataSet=(X_train, Y_train, X_test, Y_test))"
   ]
  },
  {
   "cell_type": "code",
   "execution_count": null,
   "metadata": {
    "collapsed": true,
    "deletable": true,
    "editable": true
   },
   "outputs": [],
   "source": [
    "#Reference code https://github.com/jacobgil/keras-dcgan/blob/master/dcgan.py\n",
    "def GenerateTrippy():\n",
    "    Generator = Generator()"
   ]
  }
 ],
 "metadata": {
  "kernelspec": {
   "display_name": "Python 3",
   "language": "python",
   "name": "python3"
  },
  "language_info": {
   "codemirror_mode": {
    "name": "ipython",
    "version": 3
   },
   "file_extension": ".py",
   "mimetype": "text/x-python",
   "name": "python",
   "nbconvert_exporter": "python",
   "pygments_lexer": "ipython3",
   "version": "3.5.2"
  },
  "widgets": {
   "state": {},
   "version": "1.1.2"
  }
 },
 "nbformat": 4,
 "nbformat_minor": 2
}
